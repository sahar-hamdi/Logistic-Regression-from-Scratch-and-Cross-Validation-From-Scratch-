{
  "cells": [
    {
      "cell_type": "code",
      "execution_count": 1,
      "metadata": {
        "id": "mC71iztevilq"
      },
      "outputs": [],
      "source": [
        "import numpy as np\n",
        "import pandas as pd\n",
        "import matplotlib.pyplot as plt\n",
        "import seaborn as sns\n",
        "import sklearn\n",
        "from keras.datasets import mnist"
      ]
    },
    {
      "cell_type": "markdown",
      "metadata": {
        "id": "l6yUmq7Iv5cW"
      },
      "source": [
        "# 1- Load MNIST Dataset From Sklearn"
      ]
    },
    {
      "cell_type": "code",
      "execution_count": 2,
      "metadata": {
        "id": "YjwnJNeDv5C3"
      },
      "outputs": [],
      "source": [
        "(x_train, y_train) , (x_test, y_test) = mnist.load_data()"
      ]
    },
    {
      "cell_type": "code",
      "execution_count": 3,
      "metadata": {
        "colab": {
          "base_uri": "https://localhost:8080/"
        },
        "id": "s9dxgXWCwIEw",
        "outputId": "800cbc3e-0635-47a8-a815-cccbd42e5a57"
      },
      "outputs": [
        {
          "output_type": "stream",
          "name": "stdout",
          "text": [
            "X_train: (60000, 28, 28)\n",
            "Y_train: (60000,)\n",
            "X_test:  (10000, 28, 28)\n",
            "Y_test:  (10000,)\n"
          ]
        }
      ],
      "source": [
        "print('X_train: ' + str(x_train.shape))\n",
        "print('Y_train: ' + str(y_train.shape))\n",
        "print('X_test:  '  + str(x_test.shape))\n",
        "print('Y_test:  '  + str(y_test.shape))"
      ]
    },
    {
      "cell_type": "code",
      "execution_count": 4,
      "metadata": {
        "colab": {
          "base_uri": "https://localhost:8080/"
        },
        "id": "ZRONaOKBwKyV",
        "outputId": "3ee090f0-19ab-4e11-dd06-236a342ed699"
      },
      "outputs": [
        {
          "output_type": "execute_result",
          "data": {
            "text/plain": [
              "array([[[0, 0, 0, ..., 0, 0, 0],\n",
              "        [0, 0, 0, ..., 0, 0, 0],\n",
              "        [0, 0, 0, ..., 0, 0, 0],\n",
              "        ...,\n",
              "        [0, 0, 0, ..., 0, 0, 0],\n",
              "        [0, 0, 0, ..., 0, 0, 0],\n",
              "        [0, 0, 0, ..., 0, 0, 0]],\n",
              "\n",
              "       [[0, 0, 0, ..., 0, 0, 0],\n",
              "        [0, 0, 0, ..., 0, 0, 0],\n",
              "        [0, 0, 0, ..., 0, 0, 0],\n",
              "        ...,\n",
              "        [0, 0, 0, ..., 0, 0, 0],\n",
              "        [0, 0, 0, ..., 0, 0, 0],\n",
              "        [0, 0, 0, ..., 0, 0, 0]],\n",
              "\n",
              "       [[0, 0, 0, ..., 0, 0, 0],\n",
              "        [0, 0, 0, ..., 0, 0, 0],\n",
              "        [0, 0, 0, ..., 0, 0, 0],\n",
              "        ...,\n",
              "        [0, 0, 0, ..., 0, 0, 0],\n",
              "        [0, 0, 0, ..., 0, 0, 0],\n",
              "        [0, 0, 0, ..., 0, 0, 0]],\n",
              "\n",
              "       ...,\n",
              "\n",
              "       [[0, 0, 0, ..., 0, 0, 0],\n",
              "        [0, 0, 0, ..., 0, 0, 0],\n",
              "        [0, 0, 0, ..., 0, 0, 0],\n",
              "        ...,\n",
              "        [0, 0, 0, ..., 0, 0, 0],\n",
              "        [0, 0, 0, ..., 0, 0, 0],\n",
              "        [0, 0, 0, ..., 0, 0, 0]],\n",
              "\n",
              "       [[0, 0, 0, ..., 0, 0, 0],\n",
              "        [0, 0, 0, ..., 0, 0, 0],\n",
              "        [0, 0, 0, ..., 0, 0, 0],\n",
              "        ...,\n",
              "        [0, 0, 0, ..., 0, 0, 0],\n",
              "        [0, 0, 0, ..., 0, 0, 0],\n",
              "        [0, 0, 0, ..., 0, 0, 0]],\n",
              "\n",
              "       [[0, 0, 0, ..., 0, 0, 0],\n",
              "        [0, 0, 0, ..., 0, 0, 0],\n",
              "        [0, 0, 0, ..., 0, 0, 0],\n",
              "        ...,\n",
              "        [0, 0, 0, ..., 0, 0, 0],\n",
              "        [0, 0, 0, ..., 0, 0, 0],\n",
              "        [0, 0, 0, ..., 0, 0, 0]]], dtype=uint8)"
            ]
          },
          "metadata": {},
          "execution_count": 4
        }
      ],
      "source": [
        "x_train"
      ]
    },
    {
      "cell_type": "code",
      "execution_count": 5,
      "metadata": {
        "colab": {
          "base_uri": "https://localhost:8080/"
        },
        "id": "_irYk2kcwOx0",
        "outputId": "e9973d81-029b-4070-e92c-d9b26d209e33"
      },
      "outputs": [
        {
          "output_type": "execute_result",
          "data": {
            "text/plain": [
              "(60000, 28, 28)"
            ]
          },
          "metadata": {},
          "execution_count": 5
        }
      ],
      "source": [
        "x_train.shape"
      ]
    },
    {
      "cell_type": "markdown",
      "metadata": {
        "id": "65yb2UGwwytd"
      },
      "source": [
        "# 2- Subset Data to Only Class 0 and Class 1"
      ]
    },
    {
      "cell_type": "code",
      "execution_count": 6,
      "metadata": {
        "id": "4a80HekXwQC4"
      },
      "outputs": [],
      "source": [
        "# we create a boolean mask using the logical_or function, and use it to subset the arrays. \n",
        "# Note that we use the bitwise | operator instead of the logical or operator \n",
        "#(| and & perform element-wise operations), and use parentheses to group the conditions.\n",
        "\n",
        "mask = np.logical_or(y_train == 0, y_train == 1)\n",
        "\n",
        "# Use the mask to subset the arrays\n",
        "x_train_ = x_train[mask]\n",
        "y_train_ = y_train[mask]\n",
        "x_test_ = x_test[(y_test == 0) | (y_test == 1)]\n",
        "y_test_ = y_test[(y_test == 0) | (y_test == 1)]"
      ]
    },
    {
      "cell_type": "code",
      "execution_count": 7,
      "metadata": {
        "colab": {
          "base_uri": "https://localhost:8080/"
        },
        "id": "wUr2EzEZxSzP",
        "outputId": "9a946212-2e0b-43ae-bc77-316837ecaa36"
      },
      "outputs": [
        {
          "output_type": "execute_result",
          "data": {
            "text/plain": [
              "(12665, 28, 28)"
            ]
          },
          "metadata": {},
          "execution_count": 7
        }
      ],
      "source": [
        "x_train_.shape"
      ]
    },
    {
      "cell_type": "code",
      "execution_count": 8,
      "metadata": {
        "colab": {
          "base_uri": "https://localhost:8080/"
        },
        "id": "UBS6jDnJxY5v",
        "outputId": "47bf43d3-32f6-465f-f4ef-d529edf6c9e1"
      },
      "outputs": [
        {
          "output_type": "execute_result",
          "data": {
            "text/plain": [
              "(12665,)"
            ]
          },
          "metadata": {},
          "execution_count": 8
        }
      ],
      "source": [
        "y_train_.shape"
      ]
    },
    {
      "cell_type": "code",
      "execution_count": 9,
      "metadata": {
        "colab": {
          "base_uri": "https://localhost:8080/",
          "height": 1000
        },
        "id": "HigQKkknw4m2",
        "outputId": "ee6f9f62-c357-492d-86ae-c8276cd47bd9"
      },
      "outputs": [
        {
          "output_type": "display_data",
          "data": {
            "text/plain": [
              "<Figure size 1000x1000 with 25 Axes>"
            ],
            "image/png": "[encoded data removed]"
          },
          "metadata": {}
        }
      ],
      "source": [
        "#Plot Figure\n",
        "fig, axes = plt.subplots(nrows = 5 , ncols = 5 , figsize=(10, 10))\n",
        "for i, ax in enumerate(axes.flatten()):\n",
        "        ax.imshow(x_train_[i], cmap='Oranges_r')\n",
        "        ax.set_title(f\"Label: {y_train_[i]}\")\n",
        "plt.tight_layout()\n",
        "plt.show()"
      ]
    },
    {
      "cell_type": "markdown",
      "metadata": {
        "id": "oyd4043MxeaI"
      },
      "source": [
        "# 3- Standardization of dataset"
      ]
    },
    {
      "cell_type": "code",
      "execution_count": 10,
      "metadata": {
        "id": "5k8M9rza0jjo"
      },
      "outputs": [],
      "source": [
        "# Reshape X_train to use it as 2D not 3D\n",
        "x_train_ = x_train_.reshape(x_train_.shape[0] , -1)\n",
        "# Reshape X_test\n",
        "x_test_ = x_test.reshape(x_test.shape[0] , -1)"
      ]
    },
    {
      "cell_type": "code",
      "execution_count": 11,
      "metadata": {
        "colab": {
          "base_uri": "https://localhost:8080/"
        },
        "id": "etCAEP364JY3",
        "outputId": "bc623a93-faa9-4213-95bf-91f62bdc91b6"
      },
      "outputs": [
        {
          "output_type": "execute_result",
          "data": {
            "text/plain": [
              "(12665, 784)"
            ]
          },
          "metadata": {},
          "execution_count": 11
        }
      ],
      "source": [
        "x_train_.shape"
      ]
    },
    {
      "cell_type": "code",
      "execution_count": 12,
      "metadata": {
        "colab": {
          "base_uri": "https://localhost:8080/"
        },
        "id": "RjgpGvHi4JY4",
        "outputId": "0683bf48-4df5-4e62-e160-6184631bd576"
      },
      "outputs": [
        {
          "output_type": "execute_result",
          "data": {
            "text/plain": [
              "(10000, 784)"
            ]
          },
          "metadata": {},
          "execution_count": 12
        }
      ],
      "source": [
        "x_test_.shape"
      ]
    },
    {
      "cell_type": "code",
      "source": [
        "y_train_.shape"
      ],
      "metadata": {
        "colab": {
          "base_uri": "https://localhost:8080/"
        },
        "id": "oDCEtoSTsQuH",
        "outputId": "cf0e8b9b-bd19-4517-9b50-f58836b47257"
      },
      "execution_count": 13,
      "outputs": [
        {
          "output_type": "execute_result",
          "data": {
            "text/plain": [
              "(12665,)"
            ]
          },
          "metadata": {},
          "execution_count": 13
        }
      ]
    },
    {
      "cell_type": "code",
      "execution_count": 14,
      "metadata": {
        "id": "xUIZ3Y1Hxf9J"
      },
      "outputs": [],
      "source": [
        "def Standardization(xtrain, xtest):\n",
        "  # Standardization for x_train\n",
        "  xtrain = (xtrain - xtrain.mean()) / xtrain.std()\n",
        "  # Standardization for x_test\n",
        "  xtest = (xtest - xtest.mean()) / xtest.std()\n",
        "  return xtrain , xtest"
      ]
    },
    {
      "cell_type": "markdown",
      "metadata": {
        "id": "wG_-gkrKx4uA"
      },
      "source": [
        "# 4- Implementation of Logistic Regression"
      ]
    },
    {
      "cell_type": "code",
      "source": [
        "def sigmoid(z) :\n",
        "  return 1 / (1 + np.exp(-z))"
      ],
      "metadata": {
        "id": "vyMoLafvYBpj"
      },
      "execution_count": 15,
      "outputs": []
    },
    {
      "cell_type": "code",
      "execution_count": 16,
      "metadata": {
        "id": "r8gPpw6axywE"
      },
      "outputs": [],
      "source": [
        "def LogistcRegression(x , y , alpha , iterations) :\n",
        "  \n",
        "  n = x.shape\n",
        "  weight = np.random.rand(n[1])\n",
        "  bias = 0\n",
        "  m = x.shape\n",
        "  cost = []\n",
        "  tol = 0.0000000001\n",
        "\n",
        "  for i in range(iterations) :\n",
        "    z = np.dot(weight , x.T) + bias\n",
        "    yhat = sigmoid(z)\n",
        "\n",
        "    cost.append(np.mean(((-y*np.log(yhat))-(((1-y)*(np.log(1-yhat)))))))\n",
        "    \n",
        "    d_w = np.dot (((yhat - y).T) , x) / m[0]\n",
        "    d_b = np.mean(yhat - y)\n",
        "\n",
        "    if cost[i] <= tol:\n",
        "      break \n",
        "\n",
        "    weight -= alpha * d_w\n",
        "    bias -= alpha * d_b\n",
        "\n",
        "\n",
        "  return weight , bias"
      ]
    },
    {
      "cell_type": "code",
      "source": [
        "w , b = LogistcRegression(x_train_ , y_train_ , 0.001 , 100)"
      ],
      "metadata": {
        "id": "lxhl_1z5qLj-",
        "colab": {
          "base_uri": "https://localhost:8080/"
        },
        "outputId": "5aaa3542-24f0-4440-b1fd-54e00bfa3587"
      },
      "execution_count": 17,
      "outputs": [
        {
          "output_type": "stream",
          "name": "stderr",
          "text": [
            "<ipython-input-16-6000d8b6fc9d>:14: RuntimeWarning: divide by zero encountered in log\n",
            "  cost.append(np.mean(((-y*np.log(yhat))-(((1-y)*(np.log(1-yhat)))))))\n",
            "<ipython-input-16-6000d8b6fc9d>:14: RuntimeWarning: invalid value encountered in multiply\n",
            "  cost.append(np.mean(((-y*np.log(yhat))-(((1-y)*(np.log(1-yhat)))))))\n",
            "<ipython-input-15-3cc3dcfecae8>:2: RuntimeWarning: overflow encountered in exp\n",
            "  return 1 / (1 + np.exp(-z))\n"
          ]
        }
      ]
    },
    {
      "cell_type": "code",
      "source": [
        "np.unique(w)"
      ],
      "metadata": {
        "colab": {
          "base_uri": "https://localhost:8080/"
        },
        "id": "s7zoNrzBzJs0",
        "outputId": "ce9cc710-b283-4754-f598-97052e50140d"
      },
      "execution_count": 18,
      "outputs": [
        {
          "output_type": "execute_result",
          "data": {
            "text/plain": [
              "array([-7.94590891e-01, -7.87655144e-01, -7.84327680e-01, -7.83943822e-01,\n",
              "       -7.64960221e-01, -7.62778700e-01, -7.44391944e-01, -7.15192568e-01,\n",
              "       -7.13441968e-01, -6.94761103e-01, -6.85707691e-01, -6.78528813e-01,\n",
              "       -6.77129363e-01, -6.70007096e-01, -6.69339661e-01, -6.62480492e-01,\n",
              "       -6.46899141e-01, -6.27297706e-01, -6.13060533e-01, -6.08760175e-01,\n",
              "       -5.99938323e-01, -5.99076117e-01, -5.88577967e-01, -5.83922921e-01,\n",
              "       -5.72334814e-01, -5.70692674e-01, -5.65226683e-01, -5.56391675e-01,\n",
              "       -5.50075785e-01, -5.42362286e-01, -5.15320518e-01, -5.15155358e-01,\n",
              "       -5.00865091e-01, -4.60714910e-01, -4.53323588e-01, -4.40791801e-01,\n",
              "       -4.35602364e-01, -4.35206500e-01, -4.30780954e-01, -4.29332097e-01,\n",
              "       -4.26471434e-01, -4.23539262e-01, -4.16376468e-01, -4.13748306e-01,\n",
              "       -4.10766222e-01, -4.05170541e-01, -4.02591320e-01, -4.00288776e-01,\n",
              "       -3.99332568e-01, -3.99287084e-01, -3.97794280e-01, -3.95182690e-01,\n",
              "       -3.93928046e-01, -3.93461512e-01, -3.83274874e-01, -3.72333706e-01,\n",
              "       -3.69744457e-01, -3.57247810e-01, -3.28579180e-01, -3.26758698e-01,\n",
              "       -3.26667726e-01, -3.25006392e-01, -3.24206009e-01, -3.19253701e-01,\n",
              "       -3.09818843e-01, -3.05493952e-01, -3.00056027e-01, -2.99500152e-01,\n",
              "       -2.96923678e-01, -2.96875427e-01, -2.92975324e-01, -2.91792968e-01,\n",
              "       -2.86429933e-01, -2.84019379e-01, -2.79051121e-01, -2.78811998e-01,\n",
              "       -2.77724916e-01, -2.76847441e-01, -2.71623717e-01, -2.65803329e-01,\n",
              "       -2.64248824e-01, -2.62506154e-01, -2.54538152e-01, -2.51491731e-01,\n",
              "       -2.50524857e-01, -2.48752577e-01, -2.47196686e-01, -2.44559040e-01,\n",
              "       -2.43426846e-01, -2.42894934e-01, -2.34148227e-01, -2.27451665e-01,\n",
              "       -2.24866065e-01, -2.24224385e-01, -2.23237784e-01, -2.19726077e-01,\n",
              "       -2.19294797e-01, -2.18875557e-01, -2.18602837e-01, -2.17238248e-01,\n",
              "       -2.15120838e-01, -2.12534858e-01, -2.06372009e-01, -2.00547274e-01,\n",
              "       -1.98298182e-01, -1.92848512e-01, -1.89706957e-01, -1.88355514e-01,\n",
              "       -1.83096414e-01, -1.79699208e-01, -1.78060216e-01, -1.70681801e-01,\n",
              "       -1.66595189e-01, -1.61828280e-01, -1.60117657e-01, -1.53131150e-01,\n",
              "       -1.52990606e-01, -1.52126450e-01, -1.48949800e-01, -1.48196297e-01,\n",
              "       -1.47591113e-01, -1.45344969e-01, -1.44323434e-01, -1.41572045e-01,\n",
              "       -1.38181115e-01, -1.36989973e-01, -1.26325919e-01, -1.20082684e-01,\n",
              "       -1.09343665e-01, -1.09167392e-01, -1.02195798e-01, -9.71683768e-02,\n",
              "       -9.55178489e-02, -9.52567399e-02, -9.03777368e-02, -8.98326473e-02,\n",
              "       -8.97300793e-02, -8.89950995e-02, -8.72950738e-02, -8.45581677e-02,\n",
              "       -8.08714376e-02, -7.98252572e-02, -7.92459912e-02, -7.67766433e-02,\n",
              "       -7.17688037e-02, -6.81295512e-02, -6.42909155e-02, -6.29968077e-02,\n",
              "       -6.06112781e-02, -5.88835227e-02, -5.88433769e-02, -5.88035029e-02,\n",
              "       -5.66546946e-02, -5.57039397e-02, -5.16321917e-02, -5.02241659e-02,\n",
              "       -5.00417884e-02, -4.42800553e-02, -4.16144773e-02, -3.53706714e-02,\n",
              "       -2.74457420e-02, -2.67419084e-02, -2.44682639e-02, -2.14586677e-02,\n",
              "       -1.96514755e-02, -1.61052454e-02, -9.80215017e-03, -9.75477704e-03,\n",
              "       -8.96485286e-03, -8.69805920e-03, -8.42728024e-03, -7.82315962e-03,\n",
              "       -7.69938189e-03, -7.25663036e-03, -8.51136274e-04, -5.40085007e-05,\n",
              "        5.21915969e-07,  3.57151776e-04,  1.23671315e-03,  1.77410775e-03,\n",
              "        5.99626063e-03,  6.56868104e-03,  7.86289328e-03,  9.82334243e-03,\n",
              "        1.07471267e-02,  1.46925312e-02,  1.53564699e-02,  1.56597674e-02,\n",
              "        1.58336324e-02,  1.60269834e-02,  1.82970506e-02,  1.89604216e-02,\n",
              "        1.94916580e-02,  1.95274867e-02,  2.11895597e-02,  2.13066226e-02,\n",
              "        2.39429103e-02,  2.57423811e-02,  2.71375908e-02,  2.80110396e-02,\n",
              "        2.96857538e-02,  3.19538435e-02,  3.39087806e-02,  3.43818119e-02,\n",
              "        3.56019284e-02,  3.60615294e-02,  3.62974696e-02,  3.72828072e-02,\n",
              "        3.79301989e-02,  3.96315127e-02,  4.40952282e-02,  4.51342341e-02,\n",
              "        4.59878027e-02,  4.67056001e-02,  5.00314858e-02,  5.25823643e-02,\n",
              "        5.28997537e-02,  5.49797294e-02,  5.59867545e-02,  5.71005553e-02,\n",
              "        5.75026353e-02,  5.99260658e-02,  5.99891818e-02,  6.07158634e-02,\n",
              "        6.09124197e-02,  6.09988370e-02,  6.53145808e-02,  6.54006764e-02,\n",
              "        6.55388582e-02,  6.62343479e-02,  6.66972960e-02,  6.74596175e-02,\n",
              "        6.76215067e-02,  6.77749717e-02,  6.85266327e-02,  6.88477352e-02,\n",
              "        6.89354487e-02,  7.05385704e-02,  7.06094939e-02,  7.19956171e-02,\n",
              "        7.34439278e-02,  7.60752031e-02,  7.61629153e-02,  7.63554787e-02,\n",
              "        8.16347011e-02,  8.20708945e-02,  8.25421310e-02,  8.32064441e-02,\n",
              "        8.46168190e-02,  8.54244824e-02,  8.64664770e-02,  8.67783375e-02,\n",
              "        8.74058413e-02,  8.89703444e-02,  8.99627403e-02,  9.21165492e-02,\n",
              "        9.29554085e-02,  9.62812270e-02,  9.79914074e-02,  9.85622057e-02,\n",
              "        9.99869428e-02,  1.02642969e-01,  1.02950189e-01,  1.06825729e-01,\n",
              "        1.10247314e-01,  1.11397893e-01,  1.12343846e-01,  1.15364887e-01,\n",
              "        1.21034479e-01,  1.21940734e-01,  1.25395804e-01,  1.25754481e-01,\n",
              "        1.27384227e-01,  1.28813011e-01,  1.30444499e-01,  1.31422898e-01,\n",
              "        1.32775826e-01,  1.34306438e-01,  1.37186687e-01,  1.38126033e-01,\n",
              "        1.38165935e-01,  1.38469288e-01,  1.38974250e-01,  1.39169828e-01,\n",
              "        1.40479007e-01,  1.41313952e-01,  1.41922368e-01,  1.42479462e-01,\n",
              "        1.45115814e-01,  1.47357715e-01,  1.48207359e-01,  1.48631243e-01,\n",
              "        1.51876606e-01,  1.51880156e-01,  1.57079848e-01,  1.58172364e-01,\n",
              "        1.63264465e-01,  1.65208226e-01,  1.65994798e-01,  1.70841290e-01,\n",
              "        1.72226780e-01,  1.73754086e-01,  1.76283532e-01,  1.76982827e-01,\n",
              "        1.78000931e-01,  1.79309260e-01,  1.79437119e-01,  1.79470519e-01,\n",
              "        1.85577429e-01,  1.86320573e-01,  1.90025217e-01,  1.91965120e-01,\n",
              "        1.97962693e-01,  1.98352237e-01,  1.99166618e-01,  2.00919723e-01,\n",
              "        2.00990323e-01,  2.01052030e-01,  2.01433185e-01,  2.03588917e-01,\n",
              "        2.05570102e-01,  2.06116479e-01,  2.06811453e-01,  2.09073708e-01,\n",
              "        2.09729287e-01,  2.10950709e-01,  2.12098975e-01,  2.13424510e-01,\n",
              "        2.14876669e-01,  2.15547109e-01,  2.17212338e-01,  2.18537594e-01,\n",
              "        2.18622212e-01,  2.18708541e-01,  2.19557325e-01,  2.20228294e-01,\n",
              "        2.20345474e-01,  2.20769954e-01,  2.20918136e-01,  2.21161784e-01,\n",
              "        2.24162532e-01,  2.25723246e-01,  2.26875177e-01,  2.29622376e-01,\n",
              "        2.30327822e-01,  2.31334115e-01,  2.32655657e-01,  2.33508978e-01,\n",
              "        2.35290315e-01,  2.35490289e-01,  2.36159594e-01,  2.38493611e-01,\n",
              "        2.39874604e-01,  2.40799726e-01,  2.42865701e-01,  2.43505932e-01,\n",
              "        2.44017512e-01,  2.44759182e-01,  2.46662619e-01,  2.49846846e-01,\n",
              "        2.50016452e-01,  2.54220901e-01,  2.54723695e-01,  2.55710467e-01,\n",
              "        2.57459302e-01,  2.58054975e-01,  2.58712815e-01,  2.62233499e-01,\n",
              "        2.63136903e-01,  2.63952727e-01,  2.66590829e-01,  2.68899849e-01,\n",
              "        2.70369905e-01,  2.70413871e-01,  2.71231748e-01,  2.71800160e-01,\n",
              "        2.73002580e-01,  2.73665231e-01,  2.73850908e-01,  2.73883708e-01,\n",
              "        2.74609141e-01,  2.77323248e-01,  2.77372531e-01,  2.77706946e-01,\n",
              "        2.81416512e-01,  2.83847803e-01,  2.84233643e-01,  2.84309716e-01,\n",
              "        2.84650450e-01,  2.85417484e-01,  2.86491449e-01,  2.87332340e-01,\n",
              "        2.89280141e-01,  2.91033694e-01,  2.92239126e-01,  2.93700553e-01,\n",
              "        2.93700844e-01,  2.94145403e-01,  2.94291791e-01,  2.94621863e-01,\n",
              "        2.95380113e-01,  2.95671076e-01,  2.98191290e-01,  3.00355954e-01,\n",
              "        3.04088357e-01,  3.04431930e-01,  3.04975944e-01,  3.05908357e-01,\n",
              "        3.07073554e-01,  3.09954155e-01,  3.12804187e-01,  3.13457514e-01,\n",
              "        3.13562835e-01,  3.15477053e-01,  3.15983381e-01,  3.16061186e-01,\n",
              "        3.17141568e-01,  3.21036778e-01,  3.24139973e-01,  3.24550185e-01,\n",
              "        3.24779288e-01,  3.25931198e-01,  3.26530368e-01,  3.28447379e-01,\n",
              "        3.28946607e-01,  3.30118327e-01,  3.30309308e-01,  3.33848806e-01,\n",
              "        3.35997497e-01,  3.36245055e-01,  3.36289080e-01,  3.37634512e-01,\n",
              "        3.39617793e-01,  3.41147915e-01,  3.41325003e-01,  3.42122657e-01,\n",
              "        3.43176268e-01,  3.45942156e-01,  3.47929923e-01,  3.50132446e-01,\n",
              "        3.51286340e-01,  3.53516908e-01,  3.53679758e-01,  3.55025708e-01,\n",
              "        3.56525700e-01,  3.57756217e-01,  3.58221961e-01,  3.58868708e-01,\n",
              "        3.59239165e-01,  3.61334593e-01,  3.62141165e-01,  3.62328522e-01,\n",
              "        3.63319610e-01,  3.64109842e-01,  3.65456265e-01,  3.66171098e-01,\n",
              "        3.70409286e-01,  3.71614519e-01,  3.72412546e-01,  3.72654634e-01,\n",
              "        3.73243292e-01,  3.74456228e-01,  3.76968715e-01,  3.79761763e-01,\n",
              "        3.81749659e-01,  3.82934953e-01,  3.82962857e-01,  3.87804886e-01,\n",
              "        3.88927570e-01,  3.93897792e-01,  3.94888446e-01,  3.95731153e-01,\n",
              "        3.96793474e-01,  3.99388887e-01,  4.00842946e-01,  4.01334253e-01,\n",
              "        4.01774845e-01,  4.03177720e-01,  4.03320827e-01,  4.03547047e-01,\n",
              "        4.05159217e-01,  4.06838410e-01,  4.09203994e-01,  4.11119467e-01,\n",
              "        4.12264907e-01,  4.15718893e-01,  4.16249046e-01,  4.16536507e-01,\n",
              "        4.19403980e-01,  4.21277434e-01,  4.22295759e-01,  4.25859034e-01,\n",
              "        4.25931330e-01,  4.27232646e-01,  4.30231497e-01,  4.31426106e-01,\n",
              "        4.31947378e-01,  4.33828058e-01,  4.34174890e-01,  4.34296132e-01,\n",
              "        4.34365668e-01,  4.34873632e-01,  4.36089822e-01,  4.36405498e-01,\n",
              "        4.41785785e-01,  4.43474236e-01,  4.45612653e-01,  4.46413223e-01,\n",
              "        4.51782120e-01,  4.55238441e-01,  4.56158923e-01,  4.58230303e-01,\n",
              "        4.58931397e-01,  4.59453330e-01,  4.63673001e-01,  4.64530393e-01,\n",
              "        4.66072176e-01,  4.67640609e-01,  4.68771154e-01,  4.68884696e-01,\n",
              "        4.70464391e-01,  4.70626875e-01,  4.71441213e-01,  4.73482163e-01,\n",
              "        4.73746342e-01,  4.74089507e-01,  4.74349545e-01,  4.74363990e-01,\n",
              "        4.75574301e-01,  4.75655893e-01,  4.76961733e-01,  4.77870866e-01,\n",
              "        4.78913425e-01,  4.80230995e-01,  4.84916334e-01,  4.89098719e-01,\n",
              "        4.90222626e-01,  4.92381819e-01,  4.93200036e-01,  4.95852329e-01,\n",
              "        4.95864675e-01,  4.96158995e-01,  4.96850543e-01,  4.96954404e-01,\n",
              "        5.00480239e-01,  5.00612420e-01,  5.00786864e-01,  5.03189885e-01,\n",
              "        5.04247359e-01,  5.06996153e-01,  5.07111896e-01,  5.08430008e-01,\n",
              "        5.09455629e-01,  5.09797344e-01,  5.10581675e-01,  5.11328205e-01,\n",
              "        5.11399613e-01,  5.15049239e-01,  5.15141630e-01,  5.15672602e-01,\n",
              "        5.16174197e-01,  5.16590910e-01,  5.18298607e-01,  5.22170605e-01,\n",
              "        5.28172131e-01,  5.28722317e-01,  5.29631984e-01,  5.29823817e-01,\n",
              "        5.33275820e-01,  5.35043564e-01,  5.37078961e-01,  5.39026407e-01,\n",
              "        5.39954786e-01,  5.43446491e-01,  5.43916183e-01,  5.44079519e-01,\n",
              "        5.49105255e-01,  5.54621724e-01,  5.55453270e-01,  5.56971535e-01,\n",
              "        5.64345906e-01,  5.66796054e-01,  5.68354869e-01,  5.69350726e-01,\n",
              "        5.69363984e-01,  5.69977936e-01,  5.70629191e-01,  5.71109055e-01,\n",
              "        5.72698741e-01,  5.73485321e-01,  5.73993539e-01,  5.74871622e-01,\n",
              "        5.79140275e-01,  5.79688462e-01,  5.80429745e-01,  5.81998889e-01,\n",
              "        5.83297634e-01,  5.87246529e-01,  5.88923770e-01,  5.89882136e-01,\n",
              "        5.93641751e-01,  5.96199282e-01,  5.96425392e-01,  5.99306798e-01,\n",
              "        6.02278140e-01,  6.03911933e-01,  6.05367740e-01,  6.07390479e-01,\n",
              "        6.08412031e-01,  6.08491183e-01,  6.11232733e-01,  6.13717882e-01,\n",
              "        6.17070607e-01,  6.19142409e-01,  6.20018353e-01,  6.24164540e-01,\n",
              "        6.25605555e-01,  6.25867301e-01,  6.28962604e-01,  6.32812566e-01,\n",
              "        6.34836526e-01,  6.36843354e-01,  6.38170514e-01,  6.39000285e-01,\n",
              "        6.39054520e-01,  6.39582534e-01,  6.41137859e-01,  6.42570805e-01,\n",
              "        6.43647546e-01,  6.44578259e-01,  6.44726389e-01,  6.44826569e-01,\n",
              "        6.47600448e-01,  6.48420430e-01,  6.50617201e-01,  6.55779460e-01,\n",
              "        6.59067721e-01,  6.62130152e-01,  6.64362242e-01,  6.65574211e-01,\n",
              "        6.67909698e-01,  6.68358978e-01,  6.73462168e-01,  6.73616110e-01,\n",
              "        6.74301556e-01,  6.74723117e-01,  6.74897704e-01,  6.75903109e-01,\n",
              "        6.77923983e-01,  6.84986098e-01,  6.88925249e-01,  6.89147319e-01,\n",
              "        6.95848474e-01,  6.96770636e-01,  6.99978476e-01,  7.03839185e-01,\n",
              "        7.07726269e-01,  7.09029334e-01,  7.09598044e-01,  7.11475331e-01,\n",
              "        7.13554198e-01,  7.14154600e-01,  7.16527492e-01,  7.21600660e-01,\n",
              "        7.21967993e-01,  7.22573951e-01,  7.26856492e-01,  7.27084973e-01,\n",
              "        7.27335285e-01,  7.30922418e-01,  7.31273813e-01,  7.33584907e-01,\n",
              "        7.34305124e-01,  7.35275410e-01,  7.42744412e-01,  7.45291819e-01,\n",
              "        7.49542890e-01,  7.50900887e-01,  7.54101305e-01,  7.55810587e-01,\n",
              "        7.57739065e-01,  7.59863245e-01,  7.64435949e-01,  7.68488381e-01,\n",
              "        7.68767199e-01,  7.70315780e-01,  7.72152705e-01,  7.74735561e-01,\n",
              "        7.79246097e-01,  7.81313215e-01,  7.81890380e-01,  7.82024788e-01,\n",
              "        7.83068529e-01,  7.84398587e-01,  7.87676921e-01,  7.87766111e-01,\n",
              "        7.88359549e-01,  7.89754558e-01,  7.90566179e-01,  7.91393749e-01,\n",
              "        8.01878432e-01,  8.05332614e-01,  8.12685890e-01,  8.13670626e-01,\n",
              "        8.15903269e-01,  8.16421615e-01,  8.21804223e-01,  8.22398836e-01,\n",
              "        8.23741404e-01,  8.24020595e-01,  8.25892312e-01,  8.29430022e-01,\n",
              "        8.31131135e-01,  8.32010163e-01,  8.32594145e-01,  8.34342639e-01,\n",
              "        8.34962990e-01,  8.35397578e-01,  8.36133967e-01,  8.40183924e-01,\n",
              "        8.45338949e-01,  8.47510902e-01,  8.47659453e-01,  8.48362057e-01,\n",
              "        8.48467379e-01,  8.52234812e-01,  8.58744516e-01,  8.61087581e-01,\n",
              "        8.62251021e-01,  8.63649114e-01,  8.63658769e-01,  8.69501560e-01,\n",
              "        8.69971962e-01,  8.73357778e-01,  8.75030578e-01,  8.77304096e-01,\n",
              "        8.78039533e-01,  8.85445628e-01,  8.87613886e-01,  8.92211248e-01,\n",
              "        8.92750275e-01,  8.95843355e-01,  8.96961568e-01,  8.98958143e-01,\n",
              "        9.02947214e-01,  9.03590199e-01,  9.04877321e-01,  9.04878550e-01,\n",
              "        9.05528613e-01,  9.05827303e-01,  9.08596100e-01,  9.08865180e-01,\n",
              "        9.12166281e-01,  9.13429365e-01,  9.17232352e-01,  9.17977109e-01,\n",
              "        9.21259729e-01,  9.26858138e-01,  9.29461051e-01,  9.34319533e-01,\n",
              "        9.39447472e-01,  9.42021671e-01,  9.48080857e-01,  9.48437250e-01,\n",
              "        9.50291992e-01,  9.50524537e-01,  9.58967618e-01,  9.60693017e-01,\n",
              "        9.64533059e-01,  9.64882303e-01,  9.66895303e-01,  9.68934979e-01,\n",
              "        9.71788261e-01,  9.75843490e-01,  9.75891044e-01,  9.77391900e-01,\n",
              "        9.80897496e-01,  9.85196916e-01,  9.87510343e-01,  9.88489616e-01,\n",
              "        9.89465468e-01,  9.91541476e-01,  9.95917116e-01,  9.97187295e-01])"
            ]
          },
          "metadata": {},
          "execution_count": 18
        }
      ]
    },
    {
      "cell_type": "code",
      "source": [
        "def predict(x, weight, bias):\n",
        "  sigmoidResult = sigmoid(x.dot(weight) + bias)\n",
        "  return np.where(sigmoidResult >= 0.5, 1, 0).flatten()"
      ],
      "metadata": {
        "id": "GYOaabFDU9hf"
      },
      "execution_count": 23,
      "outputs": []
    },
    {
      "cell_type": "code",
      "source": [
        "p = predict(x_train_ , w , b)\n",
        "p"
      ],
      "metadata": {
        "colab": {
          "base_uri": "https://localhost:8080/"
        },
        "id": "Z5l34FGHVIB4",
        "outputId": "0526379e-56af-405c-8b0e-f95ec1ec4a91"
      },
      "execution_count": 26,
      "outputs": [
        {
          "output_type": "stream",
          "name": "stderr",
          "text": [
            "<ipython-input-15-3cc3dcfecae8>:2: RuntimeWarning: overflow encountered in exp\n",
            "  return 1 / (1 + np.exp(-z))\n"
          ]
        },
        {
          "output_type": "execute_result",
          "data": {
            "text/plain": [
              "array([0, 1, 1, ..., 1, 0, 1])"
            ]
          },
          "metadata": {},
          "execution_count": 26
        }
      ]
    },
    {
      "cell_type": "code",
      "execution_count": 27,
      "metadata": {
        "id": "OOgJvvC63MRW"
      },
      "outputs": [],
      "source": [
        "def accuracy(predicted, y):\n",
        "    return (np.sum(predicted == y) / len(y)) * 100"
      ]
    },
    {
      "cell_type": "code",
      "source": [
        "accu = accuracy(p , y_train_)"
      ],
      "metadata": {
        "id": "z98Dkt88VcRO"
      },
      "execution_count": 28,
      "outputs": []
    },
    {
      "cell_type": "code",
      "source": [
        "accu"
      ],
      "metadata": {
        "colab": {
          "base_uri": "https://localhost:8080/"
        },
        "id": "wbb4o_LFVjQ3",
        "outputId": "5e97cb25-3dc4-45c3-b04a-c71796d336be"
      },
      "execution_count": 29,
      "outputs": [
        {
          "output_type": "execute_result",
          "data": {
            "text/plain": [
              "99.17883932096329"
            ]
          },
          "metadata": {},
          "execution_count": 29
        }
      ]
    },
    {
      "cell_type": "markdown",
      "metadata": {
        "id": "QoVlu4r16eel"
      },
      "source": [
        "# 5- Divide data into training and validation set using 10-fold cross validation method"
      ]
    },
    {
      "cell_type": "code",
      "execution_count": 30,
      "metadata": {
        "id": "xBsm5B376Xnq"
      },
      "outputs": [],
      "source": [
        "def kfold_cross_validation(x, y, k):\n",
        "    n_samples = x.shape[0]\n",
        "    fold_size = n_samples // k\n",
        "    accuracy_values = []\n",
        "\n",
        "    learning_rates = [0.0001 , 0.001]\n",
        "    indices = np.arange(n_samples)\n",
        "    np.random.shuffle(indices)\n",
        "\n",
        "    for fold in range(k):\n",
        "        start = fold * fold_size\n",
        "        end = (fold + 1) * fold_size\n",
        "        val_indices = indices[start:end]\n",
        "        train_indices = np.concatenate([indices[:start], indices[end:]])\n",
        "        x_traini = x[train_indices].copy()\n",
        "        y_traini = y[train_indices].copy()\n",
        "        x_val = x[val_indices]\n",
        "        y_val = y[val_indices]\n",
        "        #print(x_traini.shape)\n",
        "        #print(y_traini.shape)\n",
        "        #print(x_val.shape)\n",
        "        #print(y_val.shape)\n",
        "        accuracy_rate = []\n",
        "        for alpha in learning_rates:\n",
        "            w , b = LogistcRegression(x_traini, y_traini, alpha, 1000)    \n",
        "            accuracy_rate.append(round(accuracy(p ,y), 2))\n",
        "            #print(\"Sahora\")\n",
        "        accuracy_values.append(np.mean(accuracy_rate))\n",
        "        #print(\"Sahar\")\n",
        "    result = np.argmax(accuracy_values)\n",
        "    best_alpha = learning_rates[result]\n",
        "    best_accuracy = round(accuracy_values[result], 2)\n",
        "    return best_accuracy, best_alpha"
      ]
    },
    {
      "cell_type": "code",
      "source": [
        "accu , alpha = kfold_cross_validation(x_train_ , y_train_ , 10)"
      ],
      "metadata": {
        "id": "jn5nNqshChOv",
        "colab": {
          "base_uri": "https://localhost:8080/"
        },
        "outputId": "1c07e8e1-c617-451e-eb80-5c66f84e5a10"
      },
      "execution_count": 31,
      "outputs": [
        {
          "output_type": "stream",
          "name": "stderr",
          "text": [
            "<ipython-input-16-6000d8b6fc9d>:14: RuntimeWarning: divide by zero encountered in log\n",
            "  cost.append(np.mean(((-y*np.log(yhat))-(((1-y)*(np.log(1-yhat)))))))\n",
            "<ipython-input-16-6000d8b6fc9d>:14: RuntimeWarning: invalid value encountered in multiply\n",
            "  cost.append(np.mean(((-y*np.log(yhat))-(((1-y)*(np.log(1-yhat)))))))\n",
            "<ipython-input-15-3cc3dcfecae8>:2: RuntimeWarning: overflow encountered in exp\n",
            "  return 1 / (1 + np.exp(-z))\n",
            "/usr/local/lib/python3.9/dist-packages/numpy/core/_methods.py:181: RuntimeWarning: invalid value encountered in reduce\n",
            "  ret = umr_sum(arr, axis, dtype, out, keepdims, where=where)\n"
          ]
        }
      ]
    },
    {
      "cell_type": "code",
      "source": [
        "print(\"The Best Accuracy is :\" , accu , \"With Learning Rate :\" , alpha )"
      ],
      "metadata": {
        "colab": {
          "base_uri": "https://localhost:8080/"
        },
        "id": "4Q6TQR6ka_5X",
        "outputId": "67a73ef4-67cf-496f-e38d-e1b3e93dcbbc"
      },
      "execution_count": 32,
      "outputs": [
        {
          "output_type": "stream",
          "name": "stdout",
          "text": [
            "The Best Accuracy is : 99.18 With Learning Rate : 0.0001\n"
          ]
        }
      ]
    }
  ],
  "metadata": {
    "accelerator": "TPU",
    "colab": {
      "provenance": []
    },
    "gpuClass": "standard",
    "kernelspec": {
      "display_name": "Python 3",
      "name": "python3"
    },
    "language_info": {
      "codemirror_mode": {
        "name": "ipython",
        "version": 3
      },
      "file_extension": ".py",
      "mimetype": "text/x-python",
      "name": "python",
      "nbconvert_exporter": "python",
      "pygments_lexer": "ipython3",
      "version": "3.10.3"
    }
  },
  "nbformat": 4,
  "nbformat_minor": 0
}